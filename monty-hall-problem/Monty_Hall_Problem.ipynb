{
 "cells": [
  {
   "cell_type": "markdown",
   "metadata": {},
   "source": [
    "## The Monty Hall Problem Proof"
   ]
  },
  {
   "cell_type": "markdown",
   "metadata": {},
   "source": [
    "To prove the veracity of this problem, we will use a strategy called Monte Carlo Simulation."
   ]
  },
  {
   "cell_type": "markdown",
   "metadata": {},
   "source": [
    "The task is to describe all possible choices and compare the results of a player who switches and a player who does not switch."
   ]
  },
  {
   "cell_type": "markdown",
   "metadata": {},
   "source": [
    "#### We start by importing the random module"
   ]
  },
  {
   "cell_type": "code",
   "execution_count": 8,
   "metadata": {},
   "outputs": [],
   "source": [
    "import random"
   ]
  },
  {
   "cell_type": "markdown",
   "metadata": {},
   "source": [
    "#### Now we create a function modelling a player that always switches"
   ]
  },
  {
   "cell_type": "code",
   "execution_count": 9,
   "metadata": {},
   "outputs": [],
   "source": [
    "def switching_player():\n",
    "    doors = [1,2,3]\n",
    "    car_behind_door = random.choice(doors)\n",
    "    player_first_choice = random.choice(doors)\n",
    "    \n",
    "    \n",
    "    if car_behind_door != player_first_choice:\n",
    "        eliminate_door = [1,2,3]\n",
    "        \n",
    "        # We can't eliminate the door is behind the car\n",
    "        eliminate_door.remove(car_behind_door)\n",
    "        \n",
    "        # Also we can't eliminate the door that the players already chosen\n",
    "        eliminate_door.remove(player_first_choice)\n",
    "        \n",
    "        # We eliminate the remaining door\n",
    "        doors.remove(eliminate_door[0])\n",
    "        \n",
    "        # We eliminate the player first choice, because we always switch\n",
    "        doors.remove(player_first_choice)\n",
    "        \n",
    "        player_second_choice = doors[0]\n",
    "        \n",
    "        \n",
    "        if player_second_choice == car_behind_door:\n",
    "            return 1\n",
    "        else:\n",
    "            return 0\n",
    "    \n",
    "    else:  # A car behind the door which player chose first\n",
    "        eliminate_door = [1,2,3]\n",
    "        eliminate_door.remove(player_first_choice)\n",
    "        eliminate_door = random.choice(eliminate_door)\n",
    "        \n",
    "        doors.remove(eliminate_door)\n",
    "        doors.remove(player_first_choice)\n",
    "        player_second_choice = doors[0]\n",
    "        \n",
    "        if player_second_choice == car_behind_door:\n",
    "            return 1\n",
    "        else:\n",
    "            return 0"
   ]
  },
  {
   "cell_type": "markdown",
   "metadata": {},
   "source": [
    "#### Next we create a function modelling a player that doesn't switch "
   ]
  },
  {
   "cell_type": "code",
   "execution_count": 10,
   "metadata": {},
   "outputs": [],
   "source": [
    "def non_switching_player():\n",
    "    doors = [1,2,3]\n",
    "    car_behind_door = random.choice(doors)\n",
    "    player_first_choice = random.choice(doors)\n",
    "    \n",
    "    if player_first_choice == car_behind_door:\n",
    "        return 1\n",
    "    else:\n",
    "        return 0"
   ]
  },
  {
   "cell_type": "code",
   "execution_count": 24,
   "metadata": {},
   "outputs": [
    {
     "name": "stdout",
     "output_type": "stream",
     "text": [
      "By switching, the accuracy of choosing a car is 67.0% \n",
      "By stycking with my original choice, the accuracy of choosing a car is 33.0% \n"
     ]
    }
   ],
   "source": [
    "games = 100000\n",
    "switching_result = 0\n",
    "non_switching_result = 0\n",
    "\n",
    "for i in range(games):\n",
    "    switching_result = switching_result + switching_player()\n",
    "    non_switching_result = non_switching_result + non_switching_player()\n",
    "\n",
    "print(\"By switching, the accuracy of choosing a car is {}% \".format(round(switching_result / games, 2) * 100))\n",
    "print(\"By stycking with my original choice, the accuracy of choosing a car is {}% \".format(round(non_switching_result / games, 2) * 100))"
   ]
  },
  {
   "cell_type": "code",
   "execution_count": null,
   "metadata": {},
   "outputs": [],
   "source": []
  },
  {
   "cell_type": "code",
   "execution_count": null,
   "metadata": {},
   "outputs": [],
   "source": []
  }
 ],
 "metadata": {
  "kernelspec": {
   "display_name": "Python 3",
   "language": "python",
   "name": "python3"
  },
  "language_info": {
   "codemirror_mode": {
    "name": "ipython",
    "version": 3
   },
   "file_extension": ".py",
   "mimetype": "text/x-python",
   "name": "python",
   "nbconvert_exporter": "python",
   "pygments_lexer": "ipython3",
   "version": "3.6.6"
  }
 },
 "nbformat": 4,
 "nbformat_minor": 2
}
